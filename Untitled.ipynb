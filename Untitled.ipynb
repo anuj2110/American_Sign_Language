{
 "cells": [
  {
   "cell_type": "code",
   "execution_count": 1,
   "metadata": {
    "colab": {},
    "colab_type": "code",
    "id": "IXpWfekd3g49"
   },
   "outputs": [],
   "source": [
    "import pandas as pd\n",
    "import numpy as np\n",
    "import matplotlib.pyplot as plt\n",
    "from tensorflow.keras.layers import Conv2D,MaxPooling2D,BatchNormalization,Dropout,Dense,Flatten,Activation\n",
    "from tensorflow.keras.callbacks import EarlyStopping,ModelCheckpoint,ReduceLROnPlateau\n",
    "from tensorflow.keras.models import Sequential\n",
    "from sklearn.utils import shuffle \n",
    "from sklearn.metrics import confusion_matrix\n",
    "import seaborn as sns\n",
    "from sklearn.preprocessing import LabelBinarizer\n",
    "from sklearn.model_selection import train_test_split"
   ]
  },
  {
   "cell_type": "code",
   "execution_count": 2,
   "metadata": {
    "colab": {
     "base_uri": "https://localhost:8080/",
     "height": 253
    },
    "colab_type": "code",
    "id": "zNGluI2U3g5B",
    "outputId": "963a00b0-c82a-4062-ae02-6f20a538fe88"
   },
   "outputs": [
    {
     "data": {
      "text/html": [
       "<div>\n",
       "<style scoped>\n",
       "    .dataframe tbody tr th:only-of-type {\n",
       "        vertical-align: middle;\n",
       "    }\n",
       "\n",
       "    .dataframe tbody tr th {\n",
       "        vertical-align: top;\n",
       "    }\n",
       "\n",
       "    .dataframe thead th {\n",
       "        text-align: right;\n",
       "    }\n",
       "</style>\n",
       "<table border=\"1\" class=\"dataframe\">\n",
       "  <thead>\n",
       "    <tr style=\"text-align: right;\">\n",
       "      <th></th>\n",
       "      <th>label</th>\n",
       "      <th>pixel1</th>\n",
       "      <th>pixel2</th>\n",
       "      <th>pixel3</th>\n",
       "      <th>pixel4</th>\n",
       "      <th>pixel5</th>\n",
       "      <th>pixel6</th>\n",
       "      <th>pixel7</th>\n",
       "      <th>pixel8</th>\n",
       "      <th>pixel9</th>\n",
       "      <th>...</th>\n",
       "      <th>pixel775</th>\n",
       "      <th>pixel776</th>\n",
       "      <th>pixel777</th>\n",
       "      <th>pixel778</th>\n",
       "      <th>pixel779</th>\n",
       "      <th>pixel780</th>\n",
       "      <th>pixel781</th>\n",
       "      <th>pixel782</th>\n",
       "      <th>pixel783</th>\n",
       "      <th>pixel784</th>\n",
       "    </tr>\n",
       "  </thead>\n",
       "  <tbody>\n",
       "    <tr>\n",
       "      <th>0</th>\n",
       "      <td>3</td>\n",
       "      <td>107</td>\n",
       "      <td>118</td>\n",
       "      <td>127</td>\n",
       "      <td>134</td>\n",
       "      <td>139</td>\n",
       "      <td>143</td>\n",
       "      <td>146</td>\n",
       "      <td>150</td>\n",
       "      <td>153</td>\n",
       "      <td>...</td>\n",
       "      <td>207</td>\n",
       "      <td>207</td>\n",
       "      <td>207</td>\n",
       "      <td>207</td>\n",
       "      <td>206</td>\n",
       "      <td>206</td>\n",
       "      <td>206</td>\n",
       "      <td>204</td>\n",
       "      <td>203</td>\n",
       "      <td>202</td>\n",
       "    </tr>\n",
       "    <tr>\n",
       "      <th>1</th>\n",
       "      <td>6</td>\n",
       "      <td>155</td>\n",
       "      <td>157</td>\n",
       "      <td>156</td>\n",
       "      <td>156</td>\n",
       "      <td>156</td>\n",
       "      <td>157</td>\n",
       "      <td>156</td>\n",
       "      <td>158</td>\n",
       "      <td>158</td>\n",
       "      <td>...</td>\n",
       "      <td>69</td>\n",
       "      <td>149</td>\n",
       "      <td>128</td>\n",
       "      <td>87</td>\n",
       "      <td>94</td>\n",
       "      <td>163</td>\n",
       "      <td>175</td>\n",
       "      <td>103</td>\n",
       "      <td>135</td>\n",
       "      <td>149</td>\n",
       "    </tr>\n",
       "    <tr>\n",
       "      <th>2</th>\n",
       "      <td>2</td>\n",
       "      <td>187</td>\n",
       "      <td>188</td>\n",
       "      <td>188</td>\n",
       "      <td>187</td>\n",
       "      <td>187</td>\n",
       "      <td>186</td>\n",
       "      <td>187</td>\n",
       "      <td>188</td>\n",
       "      <td>187</td>\n",
       "      <td>...</td>\n",
       "      <td>202</td>\n",
       "      <td>201</td>\n",
       "      <td>200</td>\n",
       "      <td>199</td>\n",
       "      <td>198</td>\n",
       "      <td>199</td>\n",
       "      <td>198</td>\n",
       "      <td>195</td>\n",
       "      <td>194</td>\n",
       "      <td>195</td>\n",
       "    </tr>\n",
       "    <tr>\n",
       "      <th>3</th>\n",
       "      <td>2</td>\n",
       "      <td>211</td>\n",
       "      <td>211</td>\n",
       "      <td>212</td>\n",
       "      <td>212</td>\n",
       "      <td>211</td>\n",
       "      <td>210</td>\n",
       "      <td>211</td>\n",
       "      <td>210</td>\n",
       "      <td>210</td>\n",
       "      <td>...</td>\n",
       "      <td>235</td>\n",
       "      <td>234</td>\n",
       "      <td>233</td>\n",
       "      <td>231</td>\n",
       "      <td>230</td>\n",
       "      <td>226</td>\n",
       "      <td>225</td>\n",
       "      <td>222</td>\n",
       "      <td>229</td>\n",
       "      <td>163</td>\n",
       "    </tr>\n",
       "    <tr>\n",
       "      <th>4</th>\n",
       "      <td>13</td>\n",
       "      <td>164</td>\n",
       "      <td>167</td>\n",
       "      <td>170</td>\n",
       "      <td>172</td>\n",
       "      <td>176</td>\n",
       "      <td>179</td>\n",
       "      <td>180</td>\n",
       "      <td>184</td>\n",
       "      <td>185</td>\n",
       "      <td>...</td>\n",
       "      <td>92</td>\n",
       "      <td>105</td>\n",
       "      <td>105</td>\n",
       "      <td>108</td>\n",
       "      <td>133</td>\n",
       "      <td>163</td>\n",
       "      <td>157</td>\n",
       "      <td>163</td>\n",
       "      <td>164</td>\n",
       "      <td>179</td>\n",
       "    </tr>\n",
       "  </tbody>\n",
       "</table>\n",
       "<p>5 rows × 785 columns</p>\n",
       "</div>"
      ],
      "text/plain": [
       "   label  pixel1  pixel2  pixel3  pixel4  pixel5  pixel6  pixel7  pixel8  \\\n",
       "0      3     107     118     127     134     139     143     146     150   \n",
       "1      6     155     157     156     156     156     157     156     158   \n",
       "2      2     187     188     188     187     187     186     187     188   \n",
       "3      2     211     211     212     212     211     210     211     210   \n",
       "4     13     164     167     170     172     176     179     180     184   \n",
       "\n",
       "   pixel9  ...  pixel775  pixel776  pixel777  pixel778  pixel779  pixel780  \\\n",
       "0     153  ...       207       207       207       207       206       206   \n",
       "1     158  ...        69       149       128        87        94       163   \n",
       "2     187  ...       202       201       200       199       198       199   \n",
       "3     210  ...       235       234       233       231       230       226   \n",
       "4     185  ...        92       105       105       108       133       163   \n",
       "\n",
       "   pixel781  pixel782  pixel783  pixel784  \n",
       "0       206       204       203       202  \n",
       "1       175       103       135       149  \n",
       "2       198       195       194       195  \n",
       "3       225       222       229       163  \n",
       "4       157       163       164       179  \n",
       "\n",
       "[5 rows x 785 columns]"
      ]
     },
     "execution_count": 2,
     "metadata": {
      "tags": []
     },
     "output_type": "execute_result"
    }
   ],
   "source": [
    "data=pd.read_csv(\"sign_mnist_train.csv\")\n",
    "data.head()"
   ]
  },
  {
   "cell_type": "code",
   "execution_count": 3,
   "metadata": {
    "colab": {
     "base_uri": "https://localhost:8080/",
     "height": 287
    },
    "colab_type": "code",
    "id": "VAi7voXX3g5G",
    "outputId": "ed610e58-3f70-48d3-f43e-22de090bc56f"
   },
   "outputs": [
    {
     "data": {
      "text/plain": [
       "<matplotlib.axes._subplots.AxesSubplot at 0x7fe2fd928ac8>"
      ]
     },
     "execution_count": 3,
     "metadata": {
      "tags": []
     },
     "output_type": "execute_result"
    },
    {
     "data": {
      "image/png": "[encoded data removed]",
      "text/plain": [
       "<Figure size 432x288 with 1 Axes>"
      ]
     },
     "metadata": {
      "tags": []
     },
     "output_type": "display_data"
    }
   ],
   "source": [
    "labels=data[\"label\"].values\n",
    "sns.countplot(x=labels)"
   ]
  },
  {
   "cell_type": "code",
   "execution_count": 0,
   "metadata": {
    "colab": {},
    "colab_type": "code",
    "id": "xiUwP-eJ3g5K"
   },
   "outputs": [],
   "source": [
    "data.drop(\"label\",axis=1,inplace=True)\n",
    "images=data.values"
   ]
  },
  {
   "cell_type": "code",
   "execution_count": 5,
   "metadata": {
    "colab": {
     "base_uri": "https://localhost:8080/",
     "height": 287
    },
    "colab_type": "code",
    "id": "qoJpZjBl3g5N",
    "outputId": "9d0c526b-3451-4260-a95b-79438ec3c5c1"
   },
   "outputs": [
    {
     "data": {
      "text/plain": [
       "<matplotlib.image.AxesImage at 0x7fe2fd8dd278>"
      ]
     },
     "execution_count": 5,
     "metadata": {
      "tags": []
     },
     "output_type": "execute_result"
    },
    {
     "data": {
      "image/png": "[encoded data removed]",
      "text/plain": [
       "<Figure size 432x288 with 1 Axes>"
      ]
     },
     "metadata": {
      "tags": []
     },
     "output_type": "display_data"
    }
   ],
   "source": [
    "images=np.array([np.reshape(i,(28,28)) for i in images])\n",
    "plt.imshow(images[1])"
   ]
  },
  {
   "cell_type": "code",
   "execution_count": 6,
   "metadata": {
    "colab": {
     "base_uri": "https://localhost:8080/",
     "height": 53
    },
    "colab_type": "code",
    "id": "QTao02Kr3g5S",
    "outputId": "4b258ded-09ee-4723-dd95-1fe16a620174"
   },
   "outputs": [
    {
     "name": "stdout",
     "output_type": "stream",
     "text": [
      "1.0 0.0\n",
      "1 0 (27455, 24)\n"
     ]
    }
   ],
   "source": [
    "images=images/255.0\n",
    "images=np.expand_dims(images,-1)\n",
    "binarizer=LabelBinarizer()\n",
    "labels=binarizer.fit_transform(labels)\n",
    "\n",
    "print(np.max(images),np.min(images))\n",
    "print(np.max(labels),np.min(labels),labels.shape)"
   ]
  },
  {
   "cell_type": "code",
   "execution_count": 0,
   "metadata": {
    "colab": {},
    "colab_type": "code",
    "id": "rE4zxz3i3g5W"
   },
   "outputs": [],
   "source": [
    "X_train, X_test, y_train, y_test=train_test_split(images,labels,test_size=0.2,shuffle=True)"
   ]
  },
  {
   "cell_type": "code",
   "execution_count": 8,
   "metadata": {
    "colab": {
     "base_uri": "https://localhost:8080/",
     "height": 53
    },
    "colab_type": "code",
    "id": "y6MOHpIA3g5b",
    "outputId": "48b00144-2a67-4100-f327-042b96ae9536"
   },
   "outputs": [
    {
     "name": "stdout",
     "output_type": "stream",
     "text": [
      "TRAIN DATA,LABELS SHAPE:  (21964, 28, 28, 1) (21964, 24)\n",
      "TEST DATA,LABELS SHAPE:  (5491, 28, 28, 1) (5491, 24)\n"
     ]
    }
   ],
   "source": [
    "print(\"TRAIN DATA,LABELS SHAPE: \",X_train.shape,y_train.shape)\n",
    "print(\"TEST DATA,LABELS SHAPE: \",X_test.shape,y_test.shape)"
   ]
  },
  {
   "cell_type": "code",
   "execution_count": 9,
   "metadata": {
    "colab": {
     "base_uri": "https://localhost:8080/",
     "height": 145
    },
    "colab_type": "code",
    "id": "wbYcpO_X3g5f",
    "outputId": "63f6d335-74bb-4ad9-b731-f9dcc77a89e6"
   },
   "outputs": [
    {
     "name": "stdout",
     "output_type": "stream",
     "text": [
      "WARNING:tensorflow:From /usr/local/lib/python3.6/dist-packages/tensorflow/python/ops/resource_variable_ops.py:435: colocate_with (from tensorflow.python.framework.ops) is deprecated and will be removed in a future version.\n",
      "Instructions for updating:\n",
      "Colocations handled automatically by placer.\n",
      "WARNING:tensorflow:From /usr/local/lib/python3.6/dist-packages/tensorflow/python/keras/layers/core.py:143: calling dropout (from tensorflow.python.ops.nn_ops) with keep_prob is deprecated and will be removed in a future version.\n",
      "Instructions for updating:\n",
      "Please use `rate` instead of `keep_prob`. Rate should be set to `rate = 1 - keep_prob`.\n"
     ]
    }
   ],
   "source": [
    "model=Sequential()\n",
    "model.add(Conv2D(32,(3,3),padding='same',activation='relu',input_shape=(28,28,1)))\n",
    "model.add(MaxPooling2D(pool_size=(3,3)))\n",
    "model.add(Conv2D(64,(3,3),padding='same',activation='relu'))\n",
    "model.add(MaxPooling2D(pool_size=(3,3)))\n",
    "model.add(Conv2D(64,(3,3),padding='same',activation='relu'))\n",
    "model.add(MaxPooling2D(pool_size=(3,3)))\n",
    "model.add(Flatten())\n",
    "model.add(Dense(256,activation='relu'))\n",
    "model.add(Dropout(0.5))\n",
    "model.add(Dense(128,activation='relu'))\n",
    "model.add(Dropout(0.5))\n",
    "model.add(Dense(24,activation='softmax'))\n",
    "model.compile(loss='categorical_crossentropy',optimizer='adam',metrics=['accuracy'])"
   ]
  },
  {
   "cell_type": "code",
   "execution_count": 10,
   "metadata": {
    "colab": {
     "base_uri": "https://localhost:8080/",
     "height": 575
    },
    "colab_type": "code",
    "id": "Be9vsuGj3g5i",
    "outputId": "0d6f56db-7d1e-462e-c30b-4e4a7c7c01c6"
   },
   "outputs": [
    {
     "name": "stdout",
     "output_type": "stream",
     "text": [
      "_________________________________________________________________\n",
      "Layer (type)                 Output Shape              Param #   \n",
      "=================================================================\n",
      "conv2d (Conv2D)              (None, 28, 28, 32)        320       \n",
      "_________________________________________________________________\n",
      "max_pooling2d (MaxPooling2D) (None, 9, 9, 32)          0         \n",
      "_________________________________________________________________\n",
      "conv2d_1 (Conv2D)            (None, 9, 9, 64)          18496     \n",
      "_________________________________________________________________\n",
      "max_pooling2d_1 (MaxPooling2 (None, 3, 3, 64)          0         \n",
      "_________________________________________________________________\n",
      "conv2d_2 (Conv2D)            (None, 3, 3, 64)          36928     \n",
      "_________________________________________________________________\n",
      "max_pooling2d_2 (MaxPooling2 (None, 1, 1, 64)          0         \n",
      "_________________________________________________________________\n",
      "flatten (Flatten)            (None, 64)                0         \n",
      "_________________________________________________________________\n",
      "dense (Dense)                (None, 256)               16640     \n",
      "_________________________________________________________________\n",
      "dropout (Dropout)            (None, 256)               0         \n",
      "_________________________________________________________________\n",
      "dense_1 (Dense)              (None, 128)               32896     \n",
      "_________________________________________________________________\n",
      "dropout_1 (Dropout)          (None, 128)               0         \n",
      "_________________________________________________________________\n",
      "dense_2 (Dense)              (None, 24)                3096      \n",
      "=================================================================\n",
      "Total params: 108,376\n",
      "Trainable params: 108,376\n",
      "Non-trainable params: 0\n",
      "_________________________________________________________________\n"
     ]
    }
   ],
   "source": [
    "model.summary()"
   ]
  },
  {
   "cell_type": "code",
   "execution_count": 11,
   "metadata": {
    "colab": {
     "base_uri": "https://localhost:8080/",
     "height": 1909
    },
    "colab_type": "code",
    "id": "CajSbMwJ3g5p",
    "outputId": "5f0d6d09-e398-42ee-c0a7-9cbd25b90981"
   },
   "outputs": [
    {
     "name": "stdout",
     "output_type": "stream",
     "text": [
      "Train on 21964 samples, validate on 5491 samples\n",
      "WARNING:tensorflow:From /usr/local/lib/python3.6/dist-packages/tensorflow/python/ops/math_ops.py:3066: to_int32 (from tensorflow.python.ops.math_ops) is deprecated and will be removed in a future version.\n",
      "Instructions for updating:\n",
      "Use tf.cast instead.\n",
      "Epoch 1/50\n",
      "21964/21964 [==============================] - 10s 454us/sample - loss: 2.3751 - acc: 0.2320 - val_loss: 1.1113 - val_acc: 0.5984\n",
      "Epoch 2/50\n",
      "21964/21964 [==============================] - 7s 314us/sample - loss: 0.7418 - acc: 0.7353 - val_loss: 0.2017 - val_acc: 0.9335\n",
      "Epoch 3/50\n",
      "21964/21964 [==============================] - 7s 313us/sample - loss: 0.2795 - acc: 0.9025 - val_loss: 0.0692 - val_acc: 0.9781\n",
      "Epoch 4/50\n",
      "21964/21964 [==============================] - 7s 308us/sample - loss: 0.1366 - acc: 0.9529 - val_loss: 0.0136 - val_acc: 0.9980\n",
      "Epoch 5/50\n",
      "21964/21964 [==============================] - 7s 317us/sample - loss: 0.0884 - acc: 0.9713 - val_loss: 0.0081 - val_acc: 0.9984\n",
      "Epoch 6/50\n",
      "21964/21964 [==============================] - 7s 314us/sample - loss: 0.0642 - acc: 0.9786 - val_loss: 0.0029 - val_acc: 1.0000\n",
      "Epoch 7/50\n",
      "21964/21964 [==============================] - 7s 315us/sample - loss: 0.0480 - acc: 0.9849 - val_loss: 0.0055 - val_acc: 0.9985\n",
      "Epoch 8/50\n",
      "21964/21964 [==============================] - 7s 314us/sample - loss: 0.0353 - acc: 0.9888 - val_loss: 0.0018 - val_acc: 0.9995\n",
      "Epoch 9/50\n",
      "21964/21964 [==============================] - 7s 309us/sample - loss: 0.0454 - acc: 0.9865 - val_loss: 9.8612e-04 - val_acc: 0.9998\n",
      "Epoch 10/50\n",
      "21964/21964 [==============================] - 7s 314us/sample - loss: 0.0358 - acc: 0.9898 - val_loss: 0.0019 - val_acc: 0.9998\n",
      "Epoch 11/50\n",
      "21964/21964 [==============================] - 7s 317us/sample - loss: 0.0285 - acc: 0.9913 - val_loss: 8.3458e-04 - val_acc: 1.0000\n",
      "Epoch 12/50\n",
      "21964/21964 [==============================] - 7s 314us/sample - loss: 0.0411 - acc: 0.9873 - val_loss: 0.0059 - val_acc: 0.9984\n",
      "Epoch 13/50\n",
      "21964/21964 [==============================] - 7s 312us/sample - loss: 0.0183 - acc: 0.9949 - val_loss: 2.3373e-04 - val_acc: 1.0000\n",
      "Epoch 14/50\n",
      "21964/21964 [==============================] - 7s 315us/sample - loss: 0.0295 - acc: 0.9911 - val_loss: 0.0016 - val_acc: 0.9998\n",
      "Epoch 15/50\n",
      "21964/21964 [==============================] - 7s 315us/sample - loss: 0.0198 - acc: 0.9941 - val_loss: 0.0023 - val_acc: 0.9993\n",
      "Epoch 16/50\n",
      "21964/21964 [==============================] - 7s 316us/sample - loss: 0.0288 - acc: 0.9907 - val_loss: 8.3068e-04 - val_acc: 0.9998\n",
      "Epoch 17/50\n",
      "21964/21964 [==============================] - 7s 308us/sample - loss: 0.0177 - acc: 0.9957 - val_loss: 2.4194e-04 - val_acc: 0.9998\n",
      "Epoch 18/50\n",
      "21964/21964 [==============================] - 7s 309us/sample - loss: 0.0230 - acc: 0.9928 - val_loss: 4.4794e-04 - val_acc: 0.9998\n",
      "Epoch 19/50\n",
      "21964/21964 [==============================] - 7s 311us/sample - loss: 0.0179 - acc: 0.9946 - val_loss: 0.0023 - val_acc: 0.9995\n",
      "Epoch 20/50\n",
      "21964/21964 [==============================] - 7s 313us/sample - loss: 0.0197 - acc: 0.9943 - val_loss: 0.0023 - val_acc: 0.9995\n",
      "Epoch 21/50\n",
      "21964/21964 [==============================] - 7s 315us/sample - loss: 0.0258 - acc: 0.9938 - val_loss: 4.2022e-04 - val_acc: 0.9998\n",
      "Epoch 22/50\n",
      "21964/21964 [==============================] - 7s 309us/sample - loss: 0.0123 - acc: 0.9964 - val_loss: 0.0052 - val_acc: 0.9984\n",
      "Epoch 23/50\n",
      "21964/21964 [==============================] - 7s 309us/sample - loss: 0.0209 - acc: 0.9942 - val_loss: 0.0013 - val_acc: 0.9996\n",
      "Epoch 24/50\n",
      "21964/21964 [==============================] - 7s 311us/sample - loss: 0.0138 - acc: 0.9962 - val_loss: 8.4632e-05 - val_acc: 1.0000\n",
      "Epoch 25/50\n",
      "21964/21964 [==============================] - 7s 301us/sample - loss: 0.0259 - acc: 0.9935 - val_loss: 4.0584e-04 - val_acc: 0.9998\n",
      "Epoch 26/50\n",
      "21964/21964 [==============================] - 7s 306us/sample - loss: 0.0129 - acc: 0.9962 - val_loss: 8.4008e-04 - val_acc: 0.9998\n",
      "Epoch 27/50\n",
      "21964/21964 [==============================] - 7s 313us/sample - loss: 0.0325 - acc: 0.9920 - val_loss: 3.7272e-04 - val_acc: 1.0000\n",
      "Epoch 28/50\n",
      "21964/21964 [==============================] - 7s 312us/sample - loss: 0.0091 - acc: 0.9980 - val_loss: 0.0166 - val_acc: 0.9940\n",
      "Epoch 29/50\n",
      "21964/21964 [==============================] - 7s 312us/sample - loss: 0.0232 - acc: 0.9934 - val_loss: 0.0047 - val_acc: 0.9989\n",
      "Epoch 30/50\n",
      "21964/21964 [==============================] - 7s 314us/sample - loss: 0.0073 - acc: 0.9978 - val_loss: 1.3841e-05 - val_acc: 1.0000\n",
      "Epoch 31/50\n",
      "21964/21964 [==============================] - 7s 319us/sample - loss: 0.0330 - acc: 0.9918 - val_loss: 9.4637e-04 - val_acc: 0.9996\n",
      "Epoch 32/50\n",
      "21964/21964 [==============================] - 7s 311us/sample - loss: 0.0067 - acc: 0.9982 - val_loss: 2.7560e-05 - val_acc: 1.0000\n",
      "Epoch 33/50\n",
      "21964/21964 [==============================] - 7s 305us/sample - loss: 0.0156 - acc: 0.9962 - val_loss: 0.0345 - val_acc: 0.9929\n",
      "Epoch 34/50\n",
      "21964/21964 [==============================] - 7s 311us/sample - loss: 0.0188 - acc: 0.9946 - val_loss: 0.0108 - val_acc: 0.9976\n",
      "Epoch 35/50\n",
      "21964/21964 [==============================] - 7s 315us/sample - loss: 0.0089 - acc: 0.9976 - val_loss: 0.0102 - val_acc: 0.9973\n",
      "Epoch 36/50\n",
      "21964/21964 [==============================] - 7s 326us/sample - loss: 0.0248 - acc: 0.9940 - val_loss: 0.0030 - val_acc: 0.9989\n",
      "Epoch 37/50\n",
      "21964/21964 [==============================] - 7s 311us/sample - loss: 0.0175 - acc: 0.9955 - val_loss: 6.8450e-04 - val_acc: 0.9998\n",
      "Epoch 38/50\n",
      "21964/21964 [==============================] - 7s 313us/sample - loss: 0.0137 - acc: 0.9960 - val_loss: 6.2511e-04 - val_acc: 0.9996\n",
      "Epoch 39/50\n",
      "21964/21964 [==============================] - 7s 314us/sample - loss: 0.0036 - acc: 0.9988 - val_loss: 0.0012 - val_acc: 0.9996\n",
      "Epoch 40/50\n",
      "21964/21964 [==============================] - 7s 314us/sample - loss: 0.0184 - acc: 0.9952 - val_loss: 0.0021 - val_acc: 0.9991\n",
      "Epoch 41/50\n",
      "21964/21964 [==============================] - 7s 311us/sample - loss: 0.0184 - acc: 0.9955 - val_loss: 0.0029 - val_acc: 0.9993\n",
      "Epoch 42/50\n",
      "21964/21964 [==============================] - 7s 314us/sample - loss: 0.0126 - acc: 0.9967 - val_loss: 8.0953e-05 - val_acc: 1.0000\n",
      "Epoch 43/50\n",
      "21964/21964 [==============================] - 7s 314us/sample - loss: 0.0136 - acc: 0.9965 - val_loss: 0.0059 - val_acc: 0.9987\n",
      "Epoch 44/50\n",
      "21964/21964 [==============================] - 7s 311us/sample - loss: 0.0132 - acc: 0.9965 - val_loss: 0.0019 - val_acc: 0.9996\n",
      "Epoch 45/50\n",
      "21964/21964 [==============================] - 7s 311us/sample - loss: 0.0049 - acc: 0.9987 - val_loss: 0.0020 - val_acc: 0.9995\n",
      "Epoch 46/50\n",
      "21964/21964 [==============================] - 7s 309us/sample - loss: 0.0221 - acc: 0.9953 - val_loss: 4.1986e-04 - val_acc: 0.9998\n",
      "Epoch 47/50\n",
      "21964/21964 [==============================] - 7s 311us/sample - loss: 0.0081 - acc: 0.9982 - val_loss: 7.2750e-04 - val_acc: 0.9998\n",
      "Epoch 48/50\n",
      "21964/21964 [==============================] - 7s 308us/sample - loss: 0.0120 - acc: 0.9969 - val_loss: 0.0016 - val_acc: 0.9995\n",
      "Epoch 49/50\n",
      "21964/21964 [==============================] - 7s 306us/sample - loss: 0.0192 - acc: 0.9952 - val_loss: 0.0023 - val_acc: 0.9991\n",
      "Epoch 50/50\n",
      "21964/21964 [==============================] - 7s 309us/sample - loss: 0.0132 - acc: 0.9968 - val_loss: 6.9314e-04 - val_acc: 0.9998\n"
     ]
    }
   ],
   "source": [
    "history=model.fit(X_train,y_train,batch_size=32,epochs=50,validation_data=(X_test,y_test))"
   ]
  },
  {
   "cell_type": "code",
   "execution_count": 13,
   "metadata": {
    "colab": {
     "base_uri": "https://localhost:8080/",
     "height": 295
    },
    "colab_type": "code",
    "id": "d_jax5td3g5u",
    "outputId": "b8a9d679-f120-4996-fdd4-d5a4c5b62928"
   },
   "outputs": [
    {
     "data": {
      "image/png": "[encoded data removed]",
      "text/plain": [
       "<Figure size 432x288 with 1 Axes>"
      ]
     },
     "metadata": {
      "tags": []
     },
     "output_type": "display_data"
    }
   ],
   "source": [
    "plt.plot(history.history['acc'])\n",
    "plt.plot(history.history['val_acc'])\n",
    "plt.title(\"Accuracy\")\n",
    "plt.xlabel('epoch')\n",
    "plt.ylabel('accuracy')\n",
    "plt.legend(['train','test'])\n",
    "plt.show()"
   ]
  },
  {
   "cell_type": "code",
   "execution_count": 0,
   "metadata": {
    "colab": {},
    "colab_type": "code",
    "id": "SJ8r_47m3g5y"
   },
   "outputs": [],
   "source": [
    "model.save(\"model.h5\")"
   ]
  },
  {
   "cell_type": "code",
   "execution_count": 15,
   "metadata": {
    "colab": {
     "base_uri": "https://localhost:8080/",
     "height": 295
    },
    "colab_type": "code",
    "id": "2UzwFjQY_MO1",
    "outputId": "75bc91f7-cbae-4f45-bbd3-218e032e8cb6"
   },
   "outputs": [
    {
     "data": {
      "image/png": "[encoded data removed]",
      "text/plain": [
       "<Figure size 432x288 with 1 Axes>"
      ]
     },
     "metadata": {
      "tags": []
     },
     "output_type": "display_data"
    }
   ],
   "source": [
    "plt.plot(history.history['loss'])\n",
    "plt.plot(history.history['val_loss'])\n",
    "plt.title(\"Accuracy\")\n",
    "plt.xlabel('epoch')\n",
    "plt.ylabel('accuracy')\n",
    "plt.legend(['train','test'])\n",
    "plt.show()"
   ]
  },
  {
   "cell_type": "code",
   "execution_count": 2,
   "metadata": {
    "colab": {},
    "colab_type": "code",
    "id": "yrxvB-Cc_v6Q"
   },
   "outputs": [],
   "source": [
    "test=pd.read_csv(\"sign_mnist_test.csv\")"
   ]
  },
  {
   "cell_type": "code",
   "execution_count": 3,
   "metadata": {},
   "outputs": [
    {
     "data": {
      "text/plain": [
       "<bound method NDFrame.head of       label  pixel1  pixel2  pixel3  pixel4  pixel5  pixel6  pixel7  pixel8  \\\n",
       "0         6     149     149     150     150     150     151     151     150   \n",
       "1         5     126     128     131     132     133     134     135     135   \n",
       "2        10      85      88      92      96     105     123     135     143   \n",
       "3         0     203     205     207     206     207     209     210     209   \n",
       "4         3     188     191     193     195     199     201     202     203   \n",
       "5        21      72      79      87     101     115     124     131     135   \n",
       "6        10      93     100     112     118     123     127     131     133   \n",
       "7        14     177     177     177     177     177     178     179     179   \n",
       "8         3     191     194     196     198     201     203     204     205   \n",
       "9         7     171     172     172     173     173     173     173     173   \n",
       "10        8     212     212     213     212     214     213     213     213   \n",
       "11        8     187     186     187     186     188     187     187     187   \n",
       "12       21     128     131     133     135     137     139     140     142   \n",
       "13       12     178     179     181     183     184     183     183     184   \n",
       "14        7     119     120     120     121     120     120     120     119   \n",
       "15        4     191     192     192     192     192     193     193     193   \n",
       "16       22      31      59      78      82      86      90      94     105   \n",
       "17        0     199     201     203     205     207     208     209     211   \n",
       "18        7      95     105     119     144     155     163     169     172   \n",
       "19        7     121     131     138     138     143     149     156     159   \n",
       "20        2     197     197     197     198     199     199     199     198   \n",
       "21        0     180     177     178     179     179     179     178     177   \n",
       "22       21     130     133     137     141     143     145     147     149   \n",
       "23        4     137     138     141     142     142     144     146     150   \n",
       "24       10      98     106     121     128     133     138     142     145   \n",
       "25       15      86      97     110     116     118     122     129     136   \n",
       "26        2     171     171     172     172     172     172     172     171   \n",
       "27       15      85      90      92      93      98      99     104     118   \n",
       "28        7     131     139     151     171     180     187     192     194   \n",
       "29        1      92      95      82      69      65      61      60      34   \n",
       "...     ...     ...     ...     ...     ...     ...     ...     ...     ...   \n",
       "7142      0     218     219     219     218     218     218     218     218   \n",
       "7143     14     165     169     173     176     179     180     182     184   \n",
       "7144     12     135     138     141     143     145     147     148     151   \n",
       "7145      4      89     103     117     123     129     133     137     140   \n",
       "7146     18     153     156     159     161     164     166     169     172   \n",
       "7147     16     150     150     150     150     151     151     152     152   \n",
       "7148      7     174     179     185     189     191     193     195     194   \n",
       "7149      3      79      90      97      99     104     110     113     116   \n",
       "7150     15      82      82      83      85      85      86      89      99   \n",
       "7151     19     148     152     155     158     161     163     165     167   \n",
       "7152      1     125     104      90      83      86      78      30      83   \n",
       "7153     12     178     180     181     183     185     186     186     188   \n",
       "7154      8     204     206     206     208     209     209     213     209   \n",
       "7155     23      98     108     122     129     133     137     141     144   \n",
       "7156     19     186     187     189     192     191     192     195     195   \n",
       "7157      7     125     136     143     148     152     154     156     157   \n",
       "7158     12     173     174     173     173     173     174     175     174   \n",
       "7159      3     168     170     170     170     170     171     171     171   \n",
       "7160     19     124     127     131     134     137     139     141     142   \n",
       "7161     24     175     176     176     176     176     177     177     177   \n",
       "7162     10     130     131     131     134     133     135     137     136   \n",
       "7163      4     158     161     165     169     172     175     177     179   \n",
       "7164     14     141     144     146     149     153     156     158     161   \n",
       "7165      8     158     160     160     161     161     161     164     162   \n",
       "7166     12     169     173     177     181     183     186     189     191   \n",
       "7167      1     135     119     108     102     105      99      61     103   \n",
       "7168     12     157     159     161     164     166     166     171     174   \n",
       "7169      2     190     191     190     191     190     190     192     192   \n",
       "7170      4     201     205     208     209     214     216     218     223   \n",
       "7171      2     173     174     173     174     173     173     175     175   \n",
       "\n",
       "      pixel9  ...  pixel775  pixel776  pixel777  pixel778  pixel779  pixel780  \\\n",
       "0        151  ...       138       148       127        89        82        96   \n",
       "1        136  ...        47       104       194       183       186       184   \n",
       "2        147  ...        68       166       242       227       230       227   \n",
       "3        210  ...       154       248       247       248       253       236   \n",
       "4        203  ...        26        40        64        48        29        46   \n",
       "5        139  ...       187       189       192       193       194       194   \n",
       "6        136  ...       173       175       177       178       180       180   \n",
       "7        178  ...       232       223       224       224       223       221   \n",
       "8        205  ...        43        57        78        64        47        62   \n",
       "9        172  ...       199       199       198       196       195       194   \n",
       "10       214  ...       213       219       249       242       211       198   \n",
       "11       188  ...       187       192       218       212       185       174   \n",
       "12       145  ...       131       130        73        45        61        76   \n",
       "13       185  ...       215       202       204       202       201       200   \n",
       "14       119  ...       160       159       158       159       144       125   \n",
       "15       193  ...        81       192       223       216       216       215   \n",
       "16       119  ...       142       114        93        86       119       184   \n",
       "17       211  ...       231       232       232       233       231       231   \n",
       "18       173  ...       105       106        82        46        15        15   \n",
       "19       162  ...        98        97        98        95        93        92   \n",
       "20       199  ...       244       245       244       243       243       242   \n",
       "21       178  ...       195       197       197       195       194       193   \n",
       "22       150  ...       137       188       180       182       180       179   \n",
       "23       150  ...       189       180       181       183       184       184   \n",
       "24       149  ...       190       193       195       197       199       200   \n",
       "25       142  ...        94        91        87        88       121       106   \n",
       "26       171  ...        80       127       239       229       230       236   \n",
       "27       128  ...       105       104       105       109        97       139   \n",
       "28       195  ...       140       140       121        90        64        65   \n",
       "29        54  ...       103        98       147       166       168       171   \n",
       "...      ...  ...       ...       ...       ...       ...       ...       ...   \n",
       "7142     218  ...       229       227       227       226       224       224   \n",
       "7143     186  ...       231       231       231       230       229       229   \n",
       "7144     153  ...       114        96        88        76       136       187   \n",
       "7145     142  ...       182       196       194       195       197       199   \n",
       "7146     174  ...       120       103        91        81       166       212   \n",
       "7147     152  ...       132       121       102        73        62        58   \n",
       "7148     194  ...        51        51        48        47        39        37   \n",
       "7149     120  ...        42        20        22         0         6        31   \n",
       "7150     109  ...       114       116       105       132       163       116   \n",
       "7151     167  ...        48        45        43        38        44        44   \n",
       "7152     107  ...        91        95       100        98       103       183   \n",
       "7153     187  ...         0         3       210       229       226       226   \n",
       "7154     210  ...       233       234       231       228       227       226   \n",
       "7155     145  ...       116        96        91        87       141       195   \n",
       "7156     196  ...       221       222       221       219       219       218   \n",
       "7157     160  ...       153       149       146       144       142       139   \n",
       "7158     174  ...        75        52        23       176       217       207   \n",
       "7159     171  ...        55        54        51        47        42        40   \n",
       "7160     143  ...        25        23        21        15        22        22   \n",
       "7161     177  ...        87       105       100        88        60        28   \n",
       "7162     136  ...       128       106       107        63        11       147   \n",
       "7163     181  ...        78       122       141       141       141       140   \n",
       "7164     161  ...       199       203       202       201       201       201   \n",
       "7165     162  ...       177       178       176       174       173       172   \n",
       "7166     194  ...        36        27        14        35        40        15   \n",
       "7167     121  ...       108       112       116       114       118       180   \n",
       "7168     175  ...       213       213       213       214       213       211   \n",
       "7169     191  ...       216       215       213       214       214       213   \n",
       "7170     226  ...       112       169       255       255       237       113   \n",
       "7171     174  ...       201       200       197       198       198       197   \n",
       "\n",
       "      pixel781  pixel782  pixel783  pixel784  \n",
       "0          106       112       120       107  \n",
       "1          184       184       182       180  \n",
       "2          226       225       224       222  \n",
       "3          230       240       253       255  \n",
       "4           49        46        46        53  \n",
       "5          194       195       195       194  \n",
       "6          181       181       181       183  \n",
       "7          221       221       220       219  \n",
       "8           65        62        62        68  \n",
       "9          183        85        65       124  \n",
       "10         206       209       204       210  \n",
       "11         181       184       179       184  \n",
       "12          84        85        65        66  \n",
       "13         198       196       194       193  \n",
       "14         129       129       125       117  \n",
       "15         214       213       212       204  \n",
       "16         198       200       200       199  \n",
       "17         230       230       230       230  \n",
       "18          13        11        10         6  \n",
       "19          95       189       182       159  \n",
       "20         241       240       239       238  \n",
       "21         192       191       189       187  \n",
       "22         178       175       176       174  \n",
       "23         184       184       184       185  \n",
       "24         200       200       201       202  \n",
       "25         116       133       130       112  \n",
       "26         210       191       215       217  \n",
       "27         159       138       136       137  \n",
       "28          63        61        61        57  \n",
       "29         173       175       176       176  \n",
       "...        ...       ...       ...       ...  \n",
       "7142       222       221       219       218  \n",
       "7143       228       227       225       225  \n",
       "7144       183       185       185       185  \n",
       "7145       199       200       200       201  \n",
       "7146       212       214       214       214  \n",
       "7147        69       183       177       154  \n",
       "7148        41        46        27        29  \n",
       "7149         0         0         9        21  \n",
       "7150       123       129       113        97  \n",
       "7151        51        42        35        40  \n",
       "7152       188       177       167       161  \n",
       "7153       224       223       223       223  \n",
       "7154       223       221       220       217  \n",
       "7155       188       191       191       192  \n",
       "7156       218       217       216       215  \n",
       "7157       136       132       127       101  \n",
       "7158       210       208       206       205  \n",
       "7159        29        27        25        28  \n",
       "7160        29        19        12        18  \n",
       "7161        27        32        23        22  \n",
       "7162       194       182       176       124  \n",
       "7163       141       142       143       144  \n",
       "7164       200       200       201       201  \n",
       "7165       171       169       169       167  \n",
       "7166         8        27        42        41  \n",
       "7167       184       176       167       163  \n",
       "7168       210       210       209       208  \n",
       "7169       210       211       209       208  \n",
       "7170        91        67        70        63  \n",
       "7171       195       195       193       192  \n",
       "\n",
       "[7172 rows x 785 columns]>"
      ]
     },
     "execution_count": 3,
     "metadata": {},
     "output_type": "execute_result"
    }
   ],
   "source": [
    "test.head\n",
    "\n"
   ]
  },
  {
   "cell_type": "code",
   "execution_count": 4,
   "metadata": {},
   "outputs": [],
   "source": [
    "labels=test[\"label\"].values\n",
    "test.drop(\"label\",axis=1,inplace=True)\n",
    "images=test.values\n",
    "images=np.array([np.reshape(i,(28,28)) for i in images])"
   ]
  },
  {
   "cell_type": "code",
   "execution_count": 5,
   "metadata": {},
   "outputs": [],
   "source": [
    "images=images/255.0\n",
    "images=np.expand_dims(images,-1)\n",
    "binarizer=LabelBinarizer()\n",
    "labels=binarizer.fit_transform(labels)"
   ]
  },
  {
   "cell_type": "code",
   "execution_count": 6,
   "metadata": {},
   "outputs": [
    {
     "name": "stdout",
     "output_type": "stream",
     "text": [
      "WARNING:tensorflow:From /home/anuj/Desktop/a/lib/python3.7/site-packages/tensorflow/python/ops/resource_variable_ops.py:435: colocate_with (from tensorflow.python.framework.ops) is deprecated and will be removed in a future version.\n",
      "Instructions for updating:\n",
      "Colocations handled automatically by placer.\n",
      "WARNING:tensorflow:From /home/anuj/Desktop/a/lib/python3.7/site-packages/tensorflow/python/keras/layers/core.py:143: calling dropout (from tensorflow.python.ops.nn_ops) with keep_prob is deprecated and will be removed in a future version.\n",
      "Instructions for updating:\n",
      "Please use `rate` instead of `keep_prob`. Rate should be set to `rate = 1 - keep_prob`.\n",
      "WARNING:tensorflow:From /home/anuj/Desktop/a/lib/python3.7/site-packages/tensorflow/python/ops/math_ops.py:3066: to_int32 (from tensorflow.python.ops.math_ops) is deprecated and will be removed in a future version.\n",
      "Instructions for updating:\n",
      "Use tf.cast instead.\n"
     ]
    }
   ],
   "source": [
    "from tensorflow.keras.models import load_model\n",
    "model=load_model(\"model.h5\")\n",
    "y_pred=model.predict(images)\n",
    "labels=np.array(labels)"
   ]
  },
  {
   "cell_type": "code",
   "execution_count": 7,
   "metadata": {},
   "outputs": [
    {
     "ename": "ValueError",
     "evalue": "multilabel-indicator is not supported",
     "output_type": "error",
     "traceback": [
      "\u001b[0;31m---------------------------------------------------------------------------\u001b[0m",
      "\u001b[0;31mValueError\u001b[0m                                Traceback (most recent call last)",
      "\u001b[0;32m<ipython-input-7-502d8f1e09ac>\u001b[0m in \u001b[0;36m<module>\u001b[0;34m\u001b[0m\n\u001b[0;32m----> 1\u001b[0;31m \u001b[0mcm\u001b[0m\u001b[0;34m=\u001b[0m\u001b[0mconfusion_matrix\u001b[0m\u001b[0;34m(\u001b[0m\u001b[0my_pred\u001b[0m\u001b[0;34m.\u001b[0m\u001b[0mround\u001b[0m\u001b[0;34m(\u001b[0m\u001b[0;34m)\u001b[0m\u001b[0;34m,\u001b[0m\u001b[0mlabels\u001b[0m\u001b[0;34m)\u001b[0m\u001b[0;34m\u001b[0m\u001b[0;34m\u001b[0m\u001b[0m\n\u001b[0m",
      "\u001b[0;32m~/Desktop/a/lib/python3.7/site-packages/sklearn/metrics/classification.py\u001b[0m in \u001b[0;36mconfusion_matrix\u001b[0;34m(y_true, y_pred, labels, sample_weight)\u001b[0m\n\u001b[1;32m    253\u001b[0m     \u001b[0my_type\u001b[0m\u001b[0;34m,\u001b[0m \u001b[0my_true\u001b[0m\u001b[0;34m,\u001b[0m \u001b[0my_pred\u001b[0m \u001b[0;34m=\u001b[0m \u001b[0m_check_targets\u001b[0m\u001b[0;34m(\u001b[0m\u001b[0my_true\u001b[0m\u001b[0;34m,\u001b[0m \u001b[0my_pred\u001b[0m\u001b[0;34m)\u001b[0m\u001b[0;34m\u001b[0m\u001b[0;34m\u001b[0m\u001b[0m\n\u001b[1;32m    254\u001b[0m     \u001b[0;32mif\u001b[0m \u001b[0my_type\u001b[0m \u001b[0;32mnot\u001b[0m \u001b[0;32min\u001b[0m \u001b[0;34m(\u001b[0m\u001b[0;34m\"binary\"\u001b[0m\u001b[0;34m,\u001b[0m \u001b[0;34m\"multiclass\"\u001b[0m\u001b[0;34m)\u001b[0m\u001b[0;34m:\u001b[0m\u001b[0;34m\u001b[0m\u001b[0;34m\u001b[0m\u001b[0m\n\u001b[0;32m--> 255\u001b[0;31m         \u001b[0;32mraise\u001b[0m \u001b[0mValueError\u001b[0m\u001b[0;34m(\u001b[0m\u001b[0;34m\"%s is not supported\"\u001b[0m \u001b[0;34m%\u001b[0m \u001b[0my_type\u001b[0m\u001b[0;34m)\u001b[0m\u001b[0;34m\u001b[0m\u001b[0;34m\u001b[0m\u001b[0m\n\u001b[0m\u001b[1;32m    256\u001b[0m \u001b[0;34m\u001b[0m\u001b[0m\n\u001b[1;32m    257\u001b[0m     \u001b[0;32mif\u001b[0m \u001b[0mlabels\u001b[0m \u001b[0;32mis\u001b[0m \u001b[0;32mNone\u001b[0m\u001b[0;34m:\u001b[0m\u001b[0;34m\u001b[0m\u001b[0;34m\u001b[0m\u001b[0m\n",
      "\u001b[0;31mValueError\u001b[0m: multilabel-indicator is not supported"
     ]
    }
   ],
   "source": [
    "cm=confusion_matrix(y_pred.round(),labels)"
   ]
  },
  {
   "cell_type": "code",
   "execution_count": 50,
   "metadata": {},
   "outputs": [
    {
     "ename": "AttributeError",
     "evalue": "'numpy.ndarray' object has no attribute 'unique'",
     "output_type": "error",
     "traceback": [
      "\u001b[0;31m---------------------------------------------------------------------------\u001b[0m",
      "\u001b[0;31mAttributeError\u001b[0m                            Traceback (most recent call last)",
      "\u001b[0;32m<ipython-input-50-85984dab05b0>\u001b[0m in \u001b[0;36m<module>\u001b[0;34m\u001b[0m\n\u001b[0;32m----> 1\u001b[0;31m \u001b[0my_classes\u001b[0m\u001b[0;34m.\u001b[0m\u001b[0munique\u001b[0m\u001b[0;34m(\u001b[0m\u001b[0;34m)\u001b[0m\u001b[0;34m\u001b[0m\u001b[0;34m\u001b[0m\u001b[0m\n\u001b[0m",
      "\u001b[0;31mAttributeError\u001b[0m: 'numpy.ndarray' object has no attribute 'unique'"
     ]
    }
   ],
   "source": []
  },
  {
   "cell_type": "code",
   "execution_count": 9,
   "metadata": {},
   "outputs": [
    {
     "name": "stdout",
     "output_type": "stream",
     "text": [
      "0.9606804238706079\n"
     ]
    }
   ],
   "source": [
    "from sklearn.metrics import accuracy_score\n",
    "print(accuracy_score(labels,y_pred.round()))"
   ]
  },
  {
   "cell_type": "code",
   "execution_count": 13,
   "metadata": {},
   "outputs": [
    {
     "data": {
      "text/plain": [
       "array([[3.4757666e-23, 1.0107275e-10, 5.0229503e-15, ..., 9.5490138e-10,\n",
       "        1.8210060e-28, 1.1724672e-24],\n",
       "       [7.1171709e-13, 1.6863888e-10, 4.8190766e-15, ..., 7.8865933e-12,\n",
       "        2.2390085e-04, 3.8916440e-07],\n",
       "       [8.0990808e-16, 5.2738849e-19, 2.5114449e-19, ..., 6.8757336e-36,\n",
       "        2.8786549e-38, 0.0000000e+00],\n",
       "       ...,\n",
       "       [1.3261224e-19, 9.1870921e-17, 2.6975636e-13, ..., 2.1957395e-14,\n",
       "        3.5495257e-03, 1.5013433e-07],\n",
       "       [3.2136787e-32, 8.1159648e-35, 0.0000000e+00, ..., 2.1543315e-06,\n",
       "        4.0120974e-38, 9.9999785e-01],\n",
       "       [4.5944788e-25, 0.0000000e+00, 2.7949236e-16, ..., 0.0000000e+00,\n",
       "        6.9555008e-12, 7.9889971e-35]], dtype=float32)"
      ]
     },
     "execution_count": 13,
     "metadata": {},
     "output_type": "execute_result"
    }
   ],
   "source": [
    "y_pred[45:90]"
   ]
  },
  {
   "cell_type": "code",
   "execution_count": 40,
   "metadata": {},
   "outputs": [
    {
     "data": {
      "text/plain": [
       "array([ 5, 17,  4, 19, 13, 20, 22, 20,  5, 16, 16, 21,  4,  7, 22, 10, 13,\n",
       "       11, 22,  2, 10,  1,  4, 18,  4, 20,  6, 15,  4,  3, 20, 15, 11,  2,\n",
       "        2, 17,  2,  7, 21, 23,  7, 12, 17, 24, 14])"
      ]
     },
     "execution_count": 40,
     "metadata": {},
     "output_type": "execute_result"
    }
   ],
   "source": [
    "labels[45:90]"
   ]
  },
  {
   "cell_type": "code",
   "execution_count": 19,
   "metadata": {},
   "outputs": [
    {
     "name": "stdout",
     "output_type": "stream",
     "text": [
      "6\n",
      "5\n",
      "9\n",
      "0\n",
      "3\n",
      "20\n",
      "9\n",
      "13\n",
      "3\n",
      "7\n",
      "8\n",
      "8\n",
      "20\n",
      "11\n",
      "7\n",
      "4\n",
      "21\n",
      "0\n",
      "7\n",
      "7\n"
     ]
    }
   ],
   "source": [
    "for i in range(20):\n",
    "    print(y_pred[i].argmax())"
   ]
  },
  {
   "cell_type": "code",
   "execution_count": 20,
   "metadata": {},
   "outputs": [
    {
     "name": "stdout",
     "output_type": "stream",
     "text": [
      "6\n",
      "5\n",
      "9\n",
      "0\n",
      "3\n",
      "20\n",
      "9\n",
      "13\n",
      "3\n",
      "7\n",
      "8\n",
      "8\n",
      "20\n",
      "11\n",
      "7\n",
      "4\n",
      "21\n",
      "0\n",
      "7\n",
      "7\n"
     ]
    }
   ],
   "source": [
    "for i in range(20):\n",
    "    print(labels[i].argmax())"
   ]
  },
  {
   "cell_type": "code",
   "execution_count": 17,
   "metadata": {},
   "outputs": [
    {
     "data": {
      "text/plain": [
       "<matplotlib.image.AxesImage at 0x7f4e7ce4da20>"
      ]
     },
     "execution_count": 17,
     "metadata": {},
     "output_type": "execute_result"
    },
    {
     "data": {
      "image/png": "[encoded data removed]",
      "text/plain": [
       "<Figure size 432x288 with 1 Axes>"
      ]
     },
     "metadata": {
      "needs_background": "light"
     },
     "output_type": "display_data"
    }
   ],
   "source": [
    "plt.imshow(images[0].reshape(28,28),cmap=\"gray\")"
   ]
  },
  {
   "cell_type": "code",
   "execution_count": null,
   "metadata": {},
   "outputs": [],
   "source": []
  }
 ],
 "metadata": {
  "accelerator": "GPU",
  "colab": {
   "collapsed_sections": [],
   "name": "Untitled.ipynb",
   "provenance": [],
   "version": "0.3.2"
  },
  "kernelspec": {
   "display_name": "Python 3",
   "language": "python",
   "name": "python3"
  },
  "language_info": {
   "codemirror_mode": {
    "name": "ipython",
    "version": 3
   },
   "file_extension": ".py",
   "mimetype": "text/x-python",
   "name": "python",
   "nbconvert_exporter": "python",
   "pygments_lexer": "ipython3",
   "version": "3.7.3"
  }
 },
 "nbformat": 4,
 "nbformat_minor": 1
}
